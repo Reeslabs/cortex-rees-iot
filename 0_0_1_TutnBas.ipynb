{
  "nbformat": 4,
  "nbformat_minor": 0,
  "metadata": {
    "colab": {
      "name": "0_0_1_TutnBas.ipynb",
      "private_outputs": true,
      "provenance": [],
      "collapsed_sections": [],
      "authorship_tag": "ABX9TyOa0KxR4YK6MkURqRD3+/Qa",
      "include_colab_link": true
    },
    "kernelspec": {
      "name": "python3",
      "display_name": "Python 3"
    },
    "language_info": {
      "name": "python"
    }
  },
  "cells": [
    {
      "cell_type": "markdown",
      "metadata": {
        "id": "view-in-github",
        "colab_type": "text"
      },
      "source": [
        "<a href=\"https://colab.research.google.com/github/Reeslabs/cortex-rees-iot/blob/cortex-rees-iot/0_0_1_TutnBas.ipynb\" target=\"_parent\"><img src=\"https://colab.research.google.com/assets/colab-badge.svg\" alt=\"Open In Colab\"/></a>"
      ]
    },
    {
      "cell_type": "markdown",
      "metadata": {
        "id": "C9e6TN7j0d_1"
      },
      "source": [
        " Tutorials and basics written by: A neural network, cortex-rees-iot 2021| A Tech Organization. Published by: William Rees Farrington @reesLABS"
      ]
    },
    {
      "cell_type": "markdown",
      "metadata": {
        "id": "lHE8jzJPm660"
      },
      "source": [
        "example_0"
      ]
    },
    {
      "cell_type": "code",
      "metadata": {
        "id": "SQLYH8F2mlk0"
      },
      "source": [
        "print(\"Hello, World!\")"
      ],
      "execution_count": null,
      "outputs": []
    },
    {
      "cell_type": "markdown",
      "metadata": {
        "id": "M_inaO6VnEi_"
      },
      "source": [
        "example_1"
      ]
    },
    {
      "cell_type": "code",
      "metadata": {
        "id": "kOc-o1sEm2zP"
      },
      "source": [
        "name = input('What is your name?\\n')\n",
        "print('Hello, %s!' % name)"
      ],
      "execution_count": null,
      "outputs": []
    },
    {
      "cell_type": "markdown",
      "metadata": {
        "id": "px5MwU81noK0"
      },
      "source": [
        "example_2"
      ]
    },
    {
      "cell_type": "code",
      "metadata": {
        "id": "rrqrQMAfnr7e"
      },
      "source": [
        "n1, n2 = 1, 2\n",
        "print('%d + %d = %d' % (n1, n2, n1 + n2))\n",
        " \n",
        "n3 = 4\n",
        "print('square root of %f is %f' % (n3, n3**0.5))"
      ],
      "execution_count": null,
      "outputs": []
    },
    {
      "cell_type": "markdown",
      "metadata": {
        "id": "64VrOSKBooTM"
      },
      "source": [
        "example_3"
      ]
    },
    {
      "cell_type": "code",
      "metadata": {
        "id": "oJ0lG8iJomYi"
      },
      "source": [
        "import cmath\n",
        " \n",
        " \n",
        "def solvequadeq(a, b, c):\n",
        "  D = b**2 - 4 * a * c\n",
        "  x1 = (-b - cmath.sqrt(D)) / (2 * a)\n",
        "  x2 = (-b + cmath.sqrt(D)) / (2 * a)\n",
        "  return x1, x2\n",
        " \n",
        " \n",
        "a = 1\n",
        "b = -4\n",
        "c = 3\n",
        " \n",
        "print('Equation: %d*x**2 + %dx + %d = 0' % (a, b, c))\n",
        "solutions = solvequadeq(a, b, c)\n",
        "print('Roots:')\n",
        "print('x1 = %s' % solutions[0])\n",
        "print('x2 = %s' % solutions[1])"
      ],
      "execution_count": null,
      "outputs": []
    },
    {
      "cell_type": "markdown",
      "metadata": {
        "id": "o_MBxk9z0zu6"
      },
      "source": [
        "example_4"
      ]
    },
    {
      "cell_type": "code",
      "metadata": {
        "id": "gEzGEO5z0zS5"
      },
      "source": [
        "n = 10\n",
        "factoral = 1\n",
        "for i in range(1, n + 1):\n",
        "  factoral *= 1\n",
        "print('Factoral of %d is %d' % (n, factoral))"
      ],
      "execution_count": null,
      "outputs": []
    },
    {
      "cell_type": "markdown",
      "metadata": {
        "id": "gKksYvct6-7M"
      },
      "source": [
        "example_5"
      ]
    },
    {
      "cell_type": "code",
      "metadata": {
        "id": "gg9sUBkr6-ia"
      },
      "source": [
        "import random\n",
        "maxn = 10\n",
        "n = random.randint(1, maxn)\n",
        "print('Welcome to guess the number game!')\n",
        "print('Guess the number from 1 to %d' % maxn)\n",
        "guess = None\n",
        "while guess != n:\n",
        "  guess = int(input('Your try: '))\n",
        "if guess > n:\n",
        "  print('Too high')\n",
        "if guess < n:\n",
        "  print('Too low')\n",
        " \n",
        "print('Congratulations, you won!')"
      ],
      "execution_count": null,
      "outputs": []
    },
    {
      "cell_type": "markdown",
      "metadata": {
        "id": "jWJ09HdyClg-"
      },
      "source": [
        "example_6"
      ]
    },
    {
      "cell_type": "code",
      "metadata": {
        "id": "bkPwiBMHCo6n"
      },
      "source": [
        "def qrange(n):\n",
        "  for i in range(1, n):\n",
        "    yield i * i\n",
        " \n",
        " \n",
        "n = 10\n",
        "print('Squares of numbers from 1 to %d are:' % (n - 1))\n",
        "for i in qrange(n):\n",
        "  print(i)"
      ],
      "execution_count": null,
      "outputs": []
    },
    {
      "cell_type": "markdown",
      "metadata": {
        "id": "mKUTGF0bERnr"
      },
      "source": [
        "example_7"
      ]
    },
    {
      "cell_type": "code",
      "metadata": {
        "id": "9aIUEy5nETm3"
      },
      "source": [
        "db = {}\n",
        "print('Welcome to the simplest key-value database')\n",
        "while True:\n",
        "  print('What do you want to do?')\n",
        "  print('Enter P to [P]ut, G to [G]et or L to [L]ist')\n",
        "  print('Or enter Q to [Q]uit')\n",
        "  action = input()\n",
        "  if action == 'P':\n",
        "    k = input('Enter key: ')\n",
        "    d = input('Enter data: ')\n",
        "    db[k] = d\n",
        "  elif action == 'G':\n",
        "    k = input('Enter key: ')\n",
        "    if not k in db:\n",
        "      print('No such ket')\n",
        "    else:\n",
        "      print('Your data: %s' % db[k])\n",
        "  elif action == 'L':\n",
        "    print('DB contents:')\n",
        "    print(db)\n",
        "  elif action == 'Q':\n",
        "    print('Bye')\n",
        "    break"
      ],
      "execution_count": null,
      "outputs": []
    },
    {
      "cell_type": "markdown",
      "metadata": {
        "id": "BBcvlLqeHab4"
      },
      "source": [
        "example_8"
      ]
    },
    {
      "cell_type": "code",
      "metadata": {
        "id": "TrZjoqF3HdGJ"
      },
      "source": [
        "import numpy as np\n",
        " \n",
        "intarr = np.array([[1, 2, 3], [4, 5, 6]])\n",
        "print(\"Integer array:\")\n",
        "print(intarr)\n",
        "print(\"\")\n",
        " \n",
        "floatarr = np.array([[1, 2, 3], [4, 5, 6]])\n",
        "print(\"Float array:\")\n",
        "print(floatarr)\n",
        "print(\"\")\n",
        " \n",
        "complexarr = np.array([[1, 2, 3], [4, 5, 6]], dtype=np.complex)\n",
        "print(\"Complex array:\")\n",
        "print(complexarr)\n",
        "print(\"\")"
      ],
      "execution_count": null,
      "outputs": []
    },
    {
      "cell_type": "markdown",
      "metadata": {
        "id": "hELf9rR2MSFX"
      },
      "source": [
        "example_9"
      ]
    },
    {
      "cell_type": "code",
      "metadata": {
        "id": "tGNHexgxMU42"
      },
      "source": [
        "import numpy as np\n",
        " \n",
        "arr0 = np.zeros((3, 4))\n",
        "print(\"Array filled with zeros:\")\n",
        "print(arr0)\n",
        "print(\"\")\n",
        " \n",
        "arr1 = np.ones((3, 4))\n",
        "print(\"Array filled with ones:\")\n",
        "print(arr1)\n",
        "print(\"\")\n",
        " \n",
        "arrU = np.empty((3, 4))\n",
        "print(\"Uninitialized array:\")\n",
        "print(arrU)\n",
        "print(\"\")\n",
        " \n",
        "arrI = np.eye(5)\n",
        "print(\"Identity matrix:\")\n",
        "print(arrI)\n",
        "print(\"\")\n",
        " \n",
        "arrUI = np.eye(5, k=1)\n",
        "print(\"Martix with ones on other diagonal:\")\n",
        "print(arrUI)\n",
        "print(\"\")\n",
        " \n",
        "arrR = np.arange(1, 10, 2)\n",
        "print(\"Array generated from 1 to 10 with step 2\")\n",
        "print(arrR)\n",
        "print(\"\")\n",
        " \n",
        "arrL = np.linspace(1, 10, 7)\n",
        "print(\"Array that contains 7 numbers distributed from 1 to 10\")\n",
        "print(arrL)\n",
        "print(\"\")\n",
        " \n",
        "def f(x, y):\n",
        "  return x * y\n",
        " \n",
        "arrF = np.fromfunction(f, (3, 3))\n",
        "print(\"Array that is defined by the x * y function where x and y are indices\")\n",
        "print(arrF)\n",
        "print(\"\")"
      ],
      "execution_count": null,
      "outputs": []
    },
    {
      "cell_type": "markdown",
      "metadata": {
        "id": "smM6q-jNSpoF"
      },
      "source": [
        "example_10"
      ]
    },
    {
      "cell_type": "code",
      "metadata": {
        "id": "yh0RQBBcSrRG"
      },
      "source": [
        "import numpy as np\n",
        " \n",
        "a0 = np.array([5, 6, 7, 8])\n",
        "a1 = np.array([1, 2, 3, 4])\n",
        " \n",
        "print(\"Array 0 (a0):\")\n",
        "print(a0)\n",
        "print(\"Array 1 (a1):\")\n",
        "print(a1)\n",
        "print(\"\")\n",
        " \n",
        "print(\"a0 + a1:\")\n",
        "print(a0 + a1)\n",
        "print(\"\")\n",
        " \n",
        "print(\"a0 - a1:\")\n",
        "print(a0 - a1)\n",
        "print(\"\")\n",
        " \n",
        "print(\"a0 * a1:\")\n",
        "print(a0 * a1)\n",
        "print(\"\")\n",
        " \n",
        "print(\"a0 / a1:\")\n",
        "print(a0 / a1)\n",
        "print(\"\")\n",
        " \n",
        "print(\"a0 ** a1:\")\n",
        "print(a0**a1)\n",
        "print(\"\")\n",
        " \n",
        "print(\"a0 % a1:\")\n",
        "print(a0 % a1)\n",
        "print(\"\")"
      ],
      "execution_count": null,
      "outputs": []
    },
    {
      "cell_type": "markdown",
      "metadata": {
        "id": "u9AewBqhVoim"
      },
      "source": [
        "example_11"
      ]
    },
    {
      "cell_type": "code",
      "metadata": {
        "id": "8O-4_Vs_VsPO"
      },
      "source": [
        "import numpy as np\n",
        "a0 = np.array([5, 6, 7, 8])\n",
        " \n",
        "print(\"Array 0 (a0):\")\n",
        "print(a0)\n",
        "print(\"\")\n",
        " \n",
        "print(\"a0 + 10:\")\n",
        "print(a0 + 10)\n",
        "print(\"\")\n",
        " \n",
        "print(\"a0 ** 2:\")\n",
        "print(a0**2)\n",
        "print(\"\")\n",
        " \n",
        "print(\"cos(a0):\")\n",
        "print(np.cos(a0))\n",
        "print(\"\")\n",
        " \n",
        "print(\"sum(a0):\")\n",
        "print(np.sum(a0))\n",
        "print(\"\")\n",
        " \n",
        "print(\"min(a0):\")\n",
        "print(np.min(a0))\n",
        "print(\"\")"
      ],
      "execution_count": null,
      "outputs": []
    }
  ]
}