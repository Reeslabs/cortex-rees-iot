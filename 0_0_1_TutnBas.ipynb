{
  "nbformat": 4,
  "nbformat_minor": 0,
  "metadata": {
    "colab": {
      "name": "0_0_1_TutnBas.ipynb",
      "private_outputs": true,
      "provenance": [],
      "collapsed_sections": [],
      "authorship_tag": "ABX9TyOFpjC5QuPVCC71I1X6BYs2",
      "include_colab_link": true
    },
    "kernelspec": {
      "name": "python3",
      "display_name": "Python 3"
    },
    "language_info": {
      "name": "python"
    }
  },
  "cells": [
    {
      "cell_type": "markdown",
      "metadata": {
        "id": "view-in-github",
        "colab_type": "text"
      },
      "source": [
        "<a href=\"https://colab.research.google.com/github/Reeslabs/cortex-rees-iot/blob/cortex-rees-iot/0_0_1_TutnBas.ipynb\" target=\"_parent\"><img src=\"https://colab.research.google.com/assets/colab-badge.svg\" alt=\"Open In Colab\"/></a>"
      ]
    },
    {
      "cell_type": "markdown",
      "metadata": {
        "id": "C9e6TN7j0d_1"
      },
      "source": [
        " Tutorials and basics of python written by: A neural network, cortex-rees-iot 2021| A Tech Organization."
      ]
    },
    {
      "cell_type": "markdown",
      "metadata": {
        "id": "lHE8jzJPm660"
      },
      "source": [
        "example_0"
      ]
    },
    {
      "cell_type": "code",
      "metadata": {
        "id": "SQLYH8F2mlk0"
      },
      "source": [
        "print(\"Hello, World!\")"
      ],
      "execution_count": null,
      "outputs": []
    },
    {
      "cell_type": "markdown",
      "metadata": {
        "id": "M_inaO6VnEi_"
      },
      "source": [
        "example_1"
      ]
    },
    {
      "cell_type": "code",
      "metadata": {
        "id": "kOc-o1sEm2zP"
      },
      "source": [
        "name = input('What is your name?\\n')\n",
        "print('Hello, %s!' % name)"
      ],
      "execution_count": null,
      "outputs": []
    },
    {
      "cell_type": "markdown",
      "metadata": {
        "id": "px5MwU81noK0"
      },
      "source": [
        "example_2"
      ]
    },
    {
      "cell_type": "code",
      "metadata": {
        "id": "rrqrQMAfnr7e"
      },
      "source": [
        "n1, n2 = 1, 2\n",
        "print('%d + %d = %d' % (n1, n2, n1 + n2))\n",
        " \n",
        "n3 = 4\n",
        "print('square root of %f is %f' % (n3, n3**0.5))"
      ],
      "execution_count": null,
      "outputs": []
    },
    {
      "cell_type": "markdown",
      "metadata": {
        "id": "64VrOSKBooTM"
      },
      "source": [
        "example_3"
      ]
    },
    {
      "cell_type": "code",
      "metadata": {
        "id": "oJ0lG8iJomYi"
      },
      "source": [
        "import cmath\n",
        " \n",
        " \n",
        "def solvequadeq(a, b, c):\n",
        "  D = b**2 - 4 * a * c\n",
        "  x1 = (-b - cmath.sqrt(D)) / (2 * a)\n",
        "  x2 = (-b + cmath.sqrt(D)) / (2 * a)\n",
        "  return x1, x2\n",
        " \n",
        " \n",
        "a = 1\n",
        "b = -4\n",
        "c = 3\n",
        " \n",
        "print('Equation: %d*x**2 + %dx + %d = 0' % (a, b, c))\n",
        "solutions = solvequadeq(a, b, c)\n",
        "print('Roots:')\n",
        "print('x1 = %s' % solutions[0])\n",
        "print('x2 = %s' % solutions[1])"
      ],
      "execution_count": null,
      "outputs": []
    },
    {
      "cell_type": "markdown",
      "metadata": {
        "id": "o_MBxk9z0zu6"
      },
      "source": [
        "example_4"
      ]
    },
    {
      "cell_type": "code",
      "metadata": {
        "id": "gEzGEO5z0zS5"
      },
      "source": [
        "n = 10\n",
        "factoral = 1\n",
        "for i in range(1, n + 1):\n",
        "  factoral *= 1\n",
        "print('Factoral of %d is %d' % (n, factoral))"
      ],
      "execution_count": null,
      "outputs": []
    },
    {
      "cell_type": "markdown",
      "metadata": {
        "id": "gKksYvct6-7M"
      },
      "source": [
        "example_5"
      ]
    },
    {
      "cell_type": "code",
      "metadata": {
        "id": "gg9sUBkr6-ia"
      },
      "source": [
        "import random\n",
        "maxn = 10\n",
        "n = random.randint(1, maxn)\n",
        "print('Welcome to guess the number game!')\n",
        "print('Guess the number from 1 to %d' % maxn)\n",
        "guess = None\n",
        "while guess != n:\n",
        "  guess = int(input('Your try: '))\n",
        "if guess > n:\n",
        "  print('Too high')\n",
        "if guess < n:\n",
        "  print('Too low')\n",
        " \n",
        "print('Congratulations, you won!')"
      ],
      "execution_count": null,
      "outputs": []
    }
  ]
}